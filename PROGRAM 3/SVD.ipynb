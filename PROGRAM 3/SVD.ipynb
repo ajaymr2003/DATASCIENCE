{
 "cells": [
  {
   "cell_type": "code",
   "execution_count": 7,
   "id": "de407c0f-2d0f-49ae-add1-2db31051a07f",
   "metadata": {},
   "outputs": [
    {
     "name": "stdout",
     "output_type": "stream",
     "text": [
      "Original matrix : \n",
      " [[1 2]\n",
      " [3 4]\n",
      " [4 3]\n",
      " [3 9]]\n",
      "Reconstructed :\n",
      " [[1. 2.]\n",
      " [3. 4.]\n",
      " [4. 3.]\n",
      " [3. 9.]]\n"
     ]
    }
   ],
   "source": [
    "import numpy as np\n",
    "X=np.array([[1, 2],[3, 4],[4,3],[3,9]])\n",
    "U,S,VT=np.linalg.svd(X)\n",
    "n_comp=2\n",
    "X_reconst=np.dot(U[:,:n_comp],np.dot(np.diag(S[:n_comp]),VT[:n_comp,:]))\n",
    "print(\"Original matrix : \\n\",X)\n",
    "print(\"Reconstructed :\\n\",X_reconst)"
   ]
  },
  {
   "cell_type": "code",
   "execution_count": null,
   "id": "84369ed8-7057-4960-be2e-817c2458869c",
   "metadata": {},
   "outputs": [],
   "source": []
  }
 ],
 "metadata": {
  "kernelspec": {
   "display_name": "Python 3 (ipykernel)",
   "language": "python",
   "name": "python3"
  },
  "language_info": {
   "codemirror_mode": {
    "name": "ipython",
    "version": 3
   },
   "file_extension": ".py",
   "mimetype": "text/x-python",
   "name": "python",
   "nbconvert_exporter": "python",
   "pygments_lexer": "ipython3",
   "version": "3.11.7"
  }
 },
 "nbformat": 4,
 "nbformat_minor": 5
}
