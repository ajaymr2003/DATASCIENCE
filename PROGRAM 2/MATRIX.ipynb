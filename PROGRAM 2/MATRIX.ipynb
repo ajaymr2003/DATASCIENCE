{
 "cells": [
  {
   "cell_type": "code",
   "execution_count": 12,
   "id": "d0af1289-5867-434e-86e0-b73fdf284150",
   "metadata": {},
   "outputs": [
    {
     "name": "stdout",
     "output_type": "stream",
     "text": [
      "Matrix 1:\n",
      "[[1 2]\n",
      " [3 4]]\n",
      "Matrix 2:\n",
      "[[4 3]\n",
      " [3 9]]\n",
      "Addition of matrix :\n",
      " [[ 5  5]\n",
      " [ 6 13]]\n",
      "Subtraction  of matrix :\n",
      " [[-3 -1]\n",
      " [ 0 -5]]\n",
      "Multiplication of matrix :\n",
      " [[ 4  6]\n",
      " [ 9 36]]\n",
      "Division of matrix :\n",
      " [[0.25       0.66666667]\n",
      " [1.         0.44444444]]\n",
      "Dot Product of matrix :\n",
      " [[10 21]\n",
      " [24 45]]\n",
      "Matrix transpose :\n",
      " [[1 3]\n",
      " [2 4]]\n"
     ]
    }
   ],
   "source": [
    "import numpy as np\n",
    "\n",
    "# Create a  matrix\n",
    "m1 = np.array([[1, 2],[3, 4]])\n",
    "m2=np.array([[4,3],[3,9]])\n",
    "print(\"Matrix 1:\")\n",
    "print(m1)\n",
    "\n",
    "print(\"Matrix 2:\")\n",
    "print(m2)\n",
    "print(\"Addition of matrix :\\n\",m1+m2)\n",
    "\n",
    "print(\"Subtraction  of matrix :\\n\",m1-m2)\n",
    "\n",
    "print(\"Multiplication of matrix :\\n\",m1*m2)\n",
    "\n",
    "\n",
    "print(\"Division of matrix :\\n\",m1/m2)\n",
    "\n",
    "print(\"Dot Product of matrix :\\n\",np.dot(m1,m2.T))\n",
    "\n",
    "print(\"Matrix transpose :\\n\",m1.T)"
   ]
  },
  {
   "cell_type": "code",
   "execution_count": null,
   "id": "c13e41f7-2c37-4340-b897-0889af971c0b",
   "metadata": {},
   "outputs": [],
   "source": []
  },
  {
   "cell_type": "code",
   "execution_count": null,
   "id": "d60baa83-49db-4ea5-af93-5a3a9cead784",
   "metadata": {},
   "outputs": [],
   "source": []
  },
  {
   "cell_type": "code",
   "execution_count": null,
   "id": "81c07c48-e9ce-401d-afbb-a52a85c50ca9",
   "metadata": {},
   "outputs": [],
   "source": []
  }
 ],
 "metadata": {
  "kernelspec": {
   "display_name": "Python 3 (ipykernel)",
   "language": "python",
   "name": "python3"
  },
  "language_info": {
   "codemirror_mode": {
    "name": "ipython",
    "version": 3
   },
   "file_extension": ".py",
   "mimetype": "text/x-python",
   "name": "python",
   "nbconvert_exporter": "python",
   "pygments_lexer": "ipython3",
   "version": "3.11.7"
  }
 },
 "nbformat": 4,
 "nbformat_minor": 5
}
